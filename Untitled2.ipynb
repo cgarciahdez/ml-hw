{
 "cells": [
  {
   "cell_type": "code",
   "execution_count": 1,
   "metadata": {
    "collapsed": false,
    "scrolled": true
   },
   "outputs": [
    {
     "data": {
      "text/plain": [
       "array([ -1.77095220e+16,  -1.26599545e+15,  -5.58443886e+15, ...,\n",
       "        -1.79545840e+15,  -2.44965547e+14,   3.84650270e+15])"
      ]
     },
     "execution_count": 1,
     "metadata": {},
     "output_type": "execute_result"
    }
   ],
   "source": [
    "from matplotlib import pyplot as plt\n",
    "import numpy as np\n",
    "from pylab import *\n",
    "from sklearn.cross_validation import KFold\n",
    "from sklearn import datasets, linear_model\n",
    "from sklearn.preprocessing import PolynomialFeatures\n",
    "\n",
    "def load_file(name):\n",
    "    file = open(name,'r')\n",
    "    x=[]\n",
    "    y=[]\n",
    "    for line in file:\n",
    "        if not line.startswith('#'):\n",
    "            l=line.split()\n",
    "            xi=[]\n",
    "            for i in range(0,len(l)-1):\n",
    "                xi.append(float(l[i]))\n",
    "            x.append(xi)\n",
    "            y.append(float(l[len(l)-1]))\n",
    "    return np.array(x), np.array(y)\n",
    "\n",
    "def yhat_poly():\n",
    "    pass\n",
    "\n",
    "def poly_linreg(x,y,d=2):\n",
    "    poly = PolynomialFeatures(degree=d)\n",
    "    z=poly.fit_transfrom(x)\n",
    "    a = dot(dot(inv(dot(z.T,z)),z.T),y)\n",
    "    #x=np.transpose(x)\n",
    "    #Z = poly.fit_transform(x)\n",
    "    #G=np.dot(Z,Z.T)\n",
    "    #a = np.dot(inv(G),y)\n",
    "    return a\n",
    "\n",
    "r=load_file(\"mvar-set1.dat.txt\")\n",
    "#print ((r[0]))\n",
    "#print ((r[1]))\n",
    "poly_linreg(r[0],r[1])"
   ]
  },
  {
   "cell_type": "code",
   "execution_count": null,
   "metadata": {
    "collapsed": true
   },
   "outputs": [],
   "source": []
  }
 ],
 "metadata": {
  "kernelspec": {
   "display_name": "Python 3",
   "language": "python",
   "name": "python3"
  },
  "language_info": {
   "codemirror_mode": {
    "name": "ipython",
    "version": 3
   },
   "file_extension": ".py",
   "mimetype": "text/x-python",
   "name": "python",
   "nbconvert_exporter": "python",
   "pygments_lexer": "ipython3",
   "version": "3.5.1"
  }
 },
 "nbformat": 4,
 "nbformat_minor": 0
}
